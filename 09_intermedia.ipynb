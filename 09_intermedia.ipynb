{
  "cells": [
    {
      "cell_type": "code",
      "execution_count": 9,
      "metadata": {
        "id": "D5fMYLkWoUlM"
      },
      "outputs": [],
      "source": [
        "import pandas as pd\n",
        "import numpy as np\n",
        "\n",
        "import matplotlib.pyplot as plt\n",
        "from IPython.display import display, HTML\n",
        "\n",
        "\n",
        "from sklearn.tree import DecisionTreeClassifier\n",
        "from sklearn.svm import SVC\n",
        "from sklearn.pipeline import Pipeline\n",
        "from sklearn.preprocessing import StandardScaler\n",
        "\n",
        "\n",
        "from sklearn.model_selection import train_test_split, KFold, StratifiedKFold, RandomizedSearchCV, ParameterGrid\n",
        "from sklearn.metrics import accuracy_score, average_precision_score, roc_auc_score, make_scorer\n",
        "from scipy.stats import loguniform\n",
        "\n",
        "from sklearn.neighbors import KNeighborsClassifier\n",
        "from sklearn.svm import SVC\n",
        "\n",
        "\n",
        "from sklearn.discriminant_analysis import LinearDiscriminantAnalysis\n",
        "from sklearn.naive_bayes import GaussianNB\n",
        "from sklearn.model_selection import cross_val_score, StratifiedKFold\n",
        "from sklearn.metrics import make_scorer, roc_auc_score\n",
        "from sklearn.model_selection import cross_validate, StratifiedKFold\n",
        "\n",
        "from IPython.display import Image, display\n",
        "url = \"https://i.imgur.com/VVzDmjr.jpeg\"\n",
        "\n",
        "df = pd.read_csv(\"https://raw.githubusercontent.com/aprendizaje-automatico-dc-uba-ar/material/main/tp/01_aprendizaje_supervisado/datos/data.csv\")"
      ]
    },
    {
      "cell_type": "markdown",
      "metadata": {
        "id": "5bCAhm_npbMh"
      },
      "source": [
        "# Ejercicio 1 — Separación de datos\n",
        "\n",
        "> *Evaluar y justificar cómo separarán sus datos para desarrollo y para evaluación. No usar `train_test_split` de sklearn.*"
      ]
    },
    {
      "cell_type": "markdown",
      "metadata": {
        "id": "Z7Yy2-VnraDs"
      },
      "source": [
        "Antes de separar los 500 datos en conjuntos de desarrollo y test, analizamos la variable `target` para contar cuántas instancias son positivas y cuántas negativas. La idea es darnos cuenta si las clases estan balanceadas o no . En el segundo caso , deberiamos hacer una división estratificada.\n"
      ]
    },
    {
      "cell_type": "code",
      "execution_count": 10,
      "metadata": {
        "colab": {
          "base_uri": "https://localhost:8080/",
          "height": 178
        },
        "id": "eARoHw6Br9Rp",
        "outputId": "49505a39-aa96-474e-cde3-4cdbcb3d3cfb"
      },
      "outputs": [
        {
          "data": {
            "text/plain": [
              "target\n",
              "0    353\n",
              "1    147\n",
              "Name: count, dtype: int64"
            ]
          },
          "execution_count": 10,
          "metadata": {},
          "output_type": "execute_result"
        }
      ],
      "source": [
        "df['target'].value_counts()"
      ]
    },
    {
      "cell_type": "markdown",
      "metadata": {
        "id": "xjXk6xUMsMxo"
      },
      "source": [
        "El data set está muy desbalanceado, hay muchas mas instancias con mal pronostico (target 0) y solo un 29 % de los datos tienen buen pronostico (target 1). Así que para separar nuestros datos no lo haremos al azar. La separación sera estratificada para que la proporcion de la clase minoritaria ( buen pronostico) se preserve en ambos conjuntos. Utilizaremos 80 % de los datos para train y 20 % para control.\n"
      ]
    },
    {
      "cell_type": "markdown",
      "metadata": {
        "id": "OhK6YEBS64dg"
      },
      "source": [
        "Haciendo la partición en 80-20, tenemos 400 instancias en el conjunto de desarrollo y 100 en el de control. Para garantizar la estratificación, seleccionamos aproximadamente el 20% de los casos positivos y el 20% de los negativos para formar el conjunto de control. De esta manera , ambos conjuntos mantienen la proporción original de clases."
      ]
    },
    {
      "cell_type": "markdown",
      "metadata": {
        "id": "q3aejzrKvTbu"
      },
      "source": [
        "Inicialmente entonces creamos dos data sets distintos. Uno destinado para el desarrolo y otro para la evaluación."
      ]
    },
    {
      "cell_type": "code",
      "execution_count": 11,
      "metadata": {
        "colab": {
          "base_uri": "https://localhost:8080/"
        },
        "id": "TOZg1sYjs6ix",
        "outputId": "bf4c09da-6894-4b68-820c-ba35ab16c39e"
      },
      "outputs": [
        {
          "name": "stdout",
          "output_type": "stream",
          "text": [
            "Desarrollo: 400 instancias\n",
            "Control: 100 instancias\n"
          ]
        }
      ],
      "source": [
        "\n",
        "# separamos positivos (buen pronostico) y negativos (mal pronsotico)\n",
        "positivos = df[df['target'] == True]\n",
        "negativos = df[df['target'] == False]\n",
        "\n",
        "# seleccionamos al azar el 20% para control\n",
        "control_positivos = positivos.sample(frac=0.2, random_state=22)\n",
        "control_negativos = negativos.sample(frac=0.2, random_state=22)\n",
        "\n",
        "# concatenamos el set de control\n",
        "NO_TOCAR_set = pd.concat([control_positivos, control_negativos])   # NO TOCAR\n",
        "\n",
        "# El resto de los datos queda para desarrollo\n",
        "desarrollo_set = df.drop(NO_TOCAR_set.index)\n",
        "\n",
        "print(f\"Desarrollo: {len(desarrollo_set)} instancias\")\n",
        "print(f\"Control: {len(NO_TOCAR_set)} instancias\")"
      ]
    },
    {
      "cell_type": "markdown",
      "metadata": {
        "id": "RHIPrs1_wLHG"
      },
      "source": [
        "# Ejercicio 2 — Entrenamiento\n",
        "\n",
        "> *Entrenar un árbol de decisión con altura máxima 3 y el resto de los hiperparámetros en default. Estimar la performance del modelo utilizando K-fold cross validation con K=5, con las métricas Accuracy, Area Under the Precision-Recall Curve (AUPRC), y Area Under the Receiver Operating Characteristic Curve (AUCROC).*"
      ]
    },
    {
      "cell_type": "markdown",
      "metadata": {
        "id": "m1eMlXDAuzVk"
      },
      "source": [
        "Para hacer CV con 5 folds, vamos a hacer una division estratificada. Como ya dijimos antes, tenemos muy pocos positivos y muchos negativos, las clases estan muy desbalanceadas, por ende, si hicieramos la division de Kfold-CV al azar, podríamos obtener un modelo entrenado con una sola clase y métricas engañosas ... no es la idea.\n",
        "Asi que vamos a usar K-fold-CV estratificado para mantener la proporcion de clases en cada fold."
      ]
    },
    {
      "cell_type": "code",
      "execution_count": 12,
      "metadata": {
        "id": "BCmauosmz23z"
      },
      "outputs": [],
      "source": [
        "# hacemos 5 folds estratificados para que haya las mismas proprciones de clases minoritarias y mayoritarias en todos los folds.\n",
        "\n",
        "folds = StratifiedKFold(n_splits=5, shuffle=True, random_state = 22)\n",
        "\n",
        "# separamos de nuestro data set la columna \"target\"\n",
        "desarrollo_set = desarrollo_set.reset_index(drop=True)\n",
        "x_desarrollo = desarrollo_set.drop('target', axis=1)\n",
        "y_desarrollo = desarrollo_set['target']\n",
        "\n",
        "\n",
        "# inicializamos nuestras listas para guadar las metricas\n",
        "vector_accuracy_train= []       # accuracy en training en cada fold\n",
        "vector_accuracy_validacion= []  # lo mismo en validacion\n",
        "\n",
        "vector_auprc_train  = []        # AUPRC en training en cada fold\n",
        "vector_auprc_validacion = []    # lo mismo pero en validacion\n",
        "\n",
        "vector_auroc_train = []         # AUC-ROC en training en cada fold\n",
        "vector_auroc_validacion=[]      # lo mismo pero en validacion\n",
        "\n",
        "\n",
        "# creamos un array para guardar las predicciones\n",
        "y_pred = np.empty(y_desarrollo.shape)\n",
        "y_pred.fill(np.nan)\n",
        "\n",
        "# lo mismo pero para guardar la probabilidad predicha de pertenecer a la clase positiva\n",
        "# esto lo vamos a usar para calcular AUC-ROC y AUPRC\n",
        "y_pred_prob = np.empty(y_desarrollo.shape)\n",
        "y_pred_prob.fill(np.nan)\n"
      ]
    },
    {
      "cell_type": "code",
      "execution_count": 13,
      "metadata": {
        "id": "z4bmfgMMyclj"
      },
      "outputs": [],
      "source": [
        "# generamos para cada fold una predicción\n",
        "for train_index, test_index in folds.split(x_desarrollo,y_desarrollo):\n",
        "\n",
        "        # sacamos el fold que no usamos para entrenar\n",
        "        kf_X_train, kf_X_test = x_desarrollo.iloc[train_index], x_desarrollo.iloc[test_index]\n",
        "        kf_y_train, kf_y_test = y_desarrollo.iloc[train_index], y_desarrollo.iloc[test_index]\n",
        "\n",
        "        # arbol de altura 3 con los datos de train\n",
        "        arbol = DecisionTreeClassifier(max_depth=3)\n",
        "        arbol.fit(kf_X_train, kf_y_train)\n",
        "        y_pred_prob[test_index] = arbol.predict_proba(kf_X_test)[:, 1] # la prob pred de clase positiva para val de ese fold\n",
        "\n",
        "        # hacemos las predicciones\n",
        "        predictions = arbol.predict(kf_X_test)\n",
        "        y_pred[test_index] = predictions\n",
        "\n",
        "        # accuracy\n",
        "        vector_accuracy_validacion.append(accuracy_score(kf_y_test, predictions))\n",
        "        vector_accuracy_train.append(accuracy_score(kf_y_train, arbol.predict(kf_X_train)))\n",
        "\n",
        "        # AUPRC\n",
        "        auprc = average_precision_score(kf_y_test, arbol.predict_proba(kf_X_test)[:, 1])\n",
        "        vector_auprc_validacion.append(auprc)\n",
        "        vector_auprc_train.append(average_precision_score(kf_y_train, arbol.predict_proba(kf_X_train)[:, 1]))\n",
        "\n",
        "        # AUROC\n",
        "        auc_roc = roc_auc_score(kf_y_test, arbol.predict_proba(kf_X_test)[:, 1])\n",
        "        vector_auroc_validacion.append(auc_roc)\n",
        "        vector_auroc_train.append(roc_auc_score(kf_y_train, arbol.predict_proba(kf_X_train)[:, 1]))\n"
      ]
    },
    {
      "cell_type": "code",
      "execution_count": 14,
      "metadata": {
        "colab": {
          "base_uri": "https://localhost:8080/"
        },
        "id": "XJqBomLR1JNm",
        "outputId": "3e3fe9d3-1167-4af2-d4e0-5582a0bba8b6"
      },
      "outputs": [
        {
          "name": "stdout",
          "output_type": "stream",
          "text": [
            "Promedio de accuracys por fold: 0.725\n",
            "Accuracy global: 0.725\n",
            "\n",
            "Promedio de AUPRC por fold: 0.4841\n",
            "AUPRC global: 0.4931\n",
            "\n",
            "Promedio de AUROC por fold: 0.7067\n",
            "AUROC global: 0.712\n"
          ]
        }
      ],
      "source": [
        "# accuracy\n",
        "print(\"Promedio de accuracys por fold:\", round(np.mean(vector_accuracy_validacion), 4))\n",
        "print(\"Accuracy global:\", round(accuracy_score(y_desarrollo, y_pred), 4))\n",
        "print()\n",
        "\n",
        "# AUPRC\n",
        "print(\"Promedio de AUPRC por fold:\", round(np.mean(vector_auprc_validacion), 4))\n",
        "print(\"AUPRC global:\", round(average_precision_score(y_desarrollo, y_pred_prob), 4))\n",
        "print()\n",
        "\n",
        "# AUROC\n",
        "print(\"Promedio de AUROC por fold:\", round(np.mean(vector_auroc_validacion), 4))\n",
        "print(\"AUROC global:\", round(roc_auc_score(y_desarrollo, y_pred_prob), 4))"
      ]
    },
    {
      "cell_type": "code",
      "execution_count": 15,
      "metadata": {
        "colab": {
          "base_uri": "https://localhost:8080/",
          "height": 143
        },
        "id": "1WfEDUus3Nw2",
        "outputId": "f10571c8-4f81-4d12-d00d-3b400e22f951"
      },
      "outputs": [
        {
          "data": {
            "text/markdown": [
              "\n",
              "| Métrica  | Promedio Fold | Global |\n",
              "|:--------:|:-------------:|:------:|\n",
              "| Accuracy |     0.7250    | 0.7250 |\n",
              "| AUPRC    |     0.4841    | 0.4931 |\n",
              "| AUROC    |     0.7067    | 0.7120 |\n"
            ],
            "text/plain": [
              "<IPython.core.display.Markdown object>"
            ]
          },
          "metadata": {},
          "output_type": "display_data"
        }
      ],
      "source": [
        "from IPython.display import Markdown, display\n",
        "\n",
        "# Ingresamos los valores a mano\n",
        "# No debería haber cambios con respecto a la posterior tabla, ya que fijamos una semilla\n",
        "\n",
        "tabla_md = \"\"\"\n",
        "| Métrica  | Promedio Fold | Global |\n",
        "|:--------:|:-------------:|:------:|\n",
        "| Accuracy |     0.7250    | 0.7250 |\n",
        "| AUPRC    |     0.4841    | 0.4931 |\n",
        "| AUROC    |     0.7067    | 0.7120 |\n",
        "\"\"\"\n",
        "\n",
        "display(Markdown(tabla_md))\n"
      ]
    },
    {
      "cell_type": "markdown",
      "metadata": {
        "id": "IPVktS5r3jnd"
      },
      "source": [
        "A pesar de que obtuvimos un accuracy del 70%, este valor no es significativo debido al fuerte desbalance de clases del dataset. De por si un clasificador dummy que predice siempre la clase negativa (mal pronóstico) alcanzaría dicha predicción."
      ]
    },
    {
      "cell_type": "markdown",
      "metadata": {
        "id": "Ci_-7SNH4Cri"
      },
      "source": [
        "Si miramos los resultados del AUPRC, considerando que nosotras tenemos clase positiva minoritaria, un modelo trivial tendria aproximadamente un AUPRC ≈ 0.29. El nuestro nos dio mejor que eso, asi que en este caso al menos superamos al azar."
      ]
    },
    {
      "cell_type": "markdown",
      "metadata": {
        "id": "VLIqClcD4ZM6"
      },
      "source": [
        "Un modelo totalmente random tendria un AUROC de 0.5. El nuestro es un poco mejor, pero igualmente no nos parece tan bueno aún.\n"
      ]
    },
    {
      "cell_type": "markdown",
      "metadata": {
        "id": "nvjUJegA2oPF"
      },
      "source": [
        "En lo siguiente, completamos la tabla que se nos pide en el TP con los resultados obtenidos."
      ]
    },
    {
      "cell_type": "code",
      "execution_count": 16,
      "metadata": {
        "colab": {
          "base_uri": "https://localhost:8080/",
          "height": 269
        },
        "id": "LC_TPoC15T62",
        "outputId": "26c0a21c-d1b0-4e00-d582-cdff987d2fb7"
      },
      "outputs": [
        {
          "data": {
            "text/html": [
              "<table border=\"1\" class=\"dataframe\">\n",
              "  <thead>\n",
              "    <tr style=\"text-align: center;\">\n",
              "      <th>Permutación</th>\n",
              "      <th>Accuracy (training)</th>\n",
              "      <th>Accuracy (validación)</th>\n",
              "      <th>AUPRC (training)</th>\n",
              "      <th>AUPRC (validación)</th>\n",
              "      <th>AUC ROC (training)</th>\n",
              "      <th>AUC ROC (validación)</th>\n",
              "    </tr>\n",
              "  </thead>\n",
              "  <tbody>\n",
              "    <tr>\n",
              "      <td>1</td>\n",
              "      <td>0.866</td>\n",
              "      <td>0.725</td>\n",
              "      <td>0.778</td>\n",
              "      <td>0.529</td>\n",
              "      <td>0.895</td>\n",
              "      <td>0.727</td>\n",
              "    </tr>\n",
              "    <tr>\n",
              "      <td>2</td>\n",
              "      <td>0.863</td>\n",
              "      <td>0.787</td>\n",
              "      <td>0.764</td>\n",
              "      <td>0.626</td>\n",
              "      <td>0.881</td>\n",
              "      <td>0.833</td>\n",
              "    </tr>\n",
              "    <tr>\n",
              "      <td>3</td>\n",
              "      <td>0.822</td>\n",
              "      <td>0.700</td>\n",
              "      <td>0.729</td>\n",
              "      <td>0.413</td>\n",
              "      <td>0.857</td>\n",
              "      <td>0.659</td>\n",
              "    </tr>\n",
              "    <tr>\n",
              "      <td>4</td>\n",
              "      <td>0.856</td>\n",
              "      <td>0.700</td>\n",
              "      <td>0.721</td>\n",
              "      <td>0.370</td>\n",
              "      <td>0.837</td>\n",
              "      <td>0.599</td>\n",
              "    </tr>\n",
              "    <tr>\n",
              "      <td>5</td>\n",
              "      <td>0.875</td>\n",
              "      <td>0.713</td>\n",
              "      <td>0.827</td>\n",
              "      <td>0.483</td>\n",
              "      <td>0.902</td>\n",
              "      <td>0.716</td>\n",
              "    </tr>\n",
              "    <tr>\n",
              "      <td>Promedio</td>\n",
              "      <td>0.856</td>\n",
              "      <td>0.725</td>\n",
              "      <td>0.764</td>\n",
              "      <td>0.484</td>\n",
              "      <td>0.874</td>\n",
              "      <td>0.707</td>\n",
              "    </tr>\n",
              "    <tr>\n",
              "      <td>Global</td>\n",
              "      <td>(NO)</td>\n",
              "      <td>0.725</td>\n",
              "      <td>(NO)</td>\n",
              "      <td>0.493</td>\n",
              "      <td>(NO)</td>\n",
              "      <td>0.712</td>\n",
              "    </tr>\n",
              "  </tbody>\n",
              "</table>"
            ],
            "text/plain": [
              "<IPython.core.display.HTML object>"
            ]
          },
          "metadata": {},
          "output_type": "display_data"
        }
      ],
      "source": [
        "# creamos la tabla que se nos pide con los resultados obtenidos\n",
        "\n",
        "tabla_resultados = pd.DataFrame({\n",
        "    \"Permutación\": list(range(1, len(vector_accuracy_validacion)+1)),\n",
        "    \"Accuracy (training)\": [round(x,3) for x in vector_accuracy_train],\n",
        "    \"Accuracy (validación)\": [round(x,3) for x in vector_accuracy_validacion],\n",
        "    \"AUPRC (training)\": [round(x,3) for x in vector_auprc_train],\n",
        "    \"AUPRC (validación)\": [round(x,3) for x in vector_auprc_validacion],\n",
        "    \"AUC ROC (training)\": [round(x,3) for x in vector_auroc_train],\n",
        "    \"AUC ROC (validación)\": [round(x,3) for x in vector_auroc_validacion]\n",
        "})\n",
        "\n",
        "\n",
        "\n",
        "promedios = {\n",
        "    \"Permutación\": \"Promedio\",\n",
        "    \"Accuracy (training)\": round(np.mean(vector_accuracy_train), 3),\n",
        "    \"Accuracy (validación)\": round(np.mean(vector_accuracy_validacion), 3),\n",
        "    \"AUPRC (training)\": round(np.mean(vector_auprc_train), 3),\n",
        "    \"AUPRC (validación)\": round(np.mean(vector_auprc_validacion), 3),\n",
        "    \"AUC ROC (training)\": round(np.mean(vector_auroc_train), 3),\n",
        "    \"AUC ROC (validación)\": round(np.mean(vector_auroc_validacion), 3)\n",
        "}\n",
        "\n",
        "\n",
        "globales = {\n",
        "    \"Permutación\": \"Global\",\n",
        "    \"Accuracy (training)\": \"(NO)\",\n",
        "    \"Accuracy (validación)\": round(accuracy_score(y_desarrollo, y_pred), 3),\n",
        "    \"AUPRC (training)\": \"(NO)\",\n",
        "    \"AUPRC (validación)\": round(average_precision_score(y_desarrollo, y_pred_prob), 3),\n",
        "    \"AUC ROC (training)\": \"(NO)\",\n",
        "    \"AUC ROC (validación)\": round(roc_auc_score(y_desarrollo, y_pred_prob), 3)\n",
        "}\n",
        "\n",
        "tabla_resultados = pd.concat([\n",
        "    tabla_resultados,\n",
        "    pd.DataFrame([promedios]),\n",
        "    pd.DataFrame([globales])\n",
        "], ignore_index=True)\n",
        "\n",
        "display(HTML(tabla_resultados.to_html(index=False, justify='center')))\n"
      ]
    },
    {
      "cell_type": "markdown",
      "metadata": {
        "id": "HFQQZkDlhIH-"
      },
      "source": [
        "Dado que la clase positiva es la clase minoritaria, tiene sentido que AUPRC sea baja. La AUPRC (Area Under Precision-Recall Curve) es muy sensible al desbalance de clases.\n",
        "\n",
        "El AUPRC grafica la relacion entre el precision y el recall. Al tener pocos positivos, el modelo, en su búsqueda por encontrar más TP (aumentar el Recall), tiende a generar muchos FP. Este aumento de FPs impacta directamente en la fórmula de la Precision (TP/TP+FP), haciendo que baje drásticamentre, y por lo tanto, que la curva y su área sean menores.\n",
        "\n",
        "En cambio, el AUCROC compara el Recall(TPR) con la FPR. La FPR se calcula como FP/FP+TN y como tenemos muchos TN (porque hay más negativos que positivos en la muestra), la tasa se mantiene baja aunque el número de FP sea alto. Por esta razón es que el desbalance no se ve reflejado en esta métrica tanto como en la otra.\n",
        "\n",
        "Adicionalmente, es lógico que los resultados en los folds de entrenamiento sean muy superiores a los de validación. Esto se debe al overfitting, ya que el modelo \"memoriza\" (hasta cierto punto) los datos con los que entrena."
      ]
    },
    {
      "cell_type": "markdown",
      "metadata": {
        "id": "fbEj0_z6tP_Z"
      },
      "source": [
        "Tiene sentido que el promedio de igual al global en este caso particular porque los folds tienen todos basicamente el mismo tamaño. Si los folds tuvieran todos tamaños lo suficientemente distintos, entonces el fold con más instancias tendría más “peso” en el cálculo global, y entonces en ese caso el promedio podria no coincidir con el  global."
      ]
    },
    {
      "cell_type": "code",
      "execution_count": 17,
      "metadata": {
        "colab": {
          "base_uri": "https://localhost:8080/",
          "height": 269
        },
        "id": "m4jyLM_viVkb",
        "outputId": "d2a55c9e-1923-40c4-cd84-bf4acc75e9f5"
      },
      "outputs": [
        {
          "data": {
            "text/html": [
              "<table border=\"1\" class=\"dataframe\">\n",
              "  <thead>\n",
              "    <tr style=\"text-align: center;\">\n",
              "      <th>Permutación</th>\n",
              "      <th>Accuracy (training)</th>\n",
              "      <th>Accuracy (validación)</th>\n",
              "      <th>AUPRC (training)</th>\n",
              "      <th>AUPRC (validación)</th>\n",
              "      <th>AUC ROC (training)</th>\n",
              "      <th>AUC ROC (validación)</th>\n",
              "    </tr>\n",
              "  </thead>\n",
              "  <tbody>\n",
              "    <tr>\n",
              "      <td>1</td>\n",
              "      <td>0.866</td>\n",
              "      <td>0.725</td>\n",
              "      <td>0.929</td>\n",
              "      <td>0.814</td>\n",
              "      <td>0.895</td>\n",
              "      <td>0.727</td>\n",
              "    </tr>\n",
              "    <tr>\n",
              "      <td>2</td>\n",
              "      <td>0.863</td>\n",
              "      <td>0.787</td>\n",
              "      <td>0.921</td>\n",
              "      <td>0.900</td>\n",
              "      <td>0.881</td>\n",
              "      <td>0.833</td>\n",
              "    </tr>\n",
              "    <tr>\n",
              "      <td>3</td>\n",
              "      <td>0.822</td>\n",
              "      <td>0.700</td>\n",
              "      <td>0.904</td>\n",
              "      <td>0.786</td>\n",
              "      <td>0.857</td>\n",
              "      <td>0.659</td>\n",
              "    </tr>\n",
              "    <tr>\n",
              "      <td>4</td>\n",
              "      <td>0.856</td>\n",
              "      <td>0.700</td>\n",
              "      <td>0.885</td>\n",
              "      <td>0.761</td>\n",
              "      <td>0.837</td>\n",
              "      <td>0.599</td>\n",
              "    </tr>\n",
              "    <tr>\n",
              "      <td>5</td>\n",
              "      <td>0.875</td>\n",
              "      <td>0.713</td>\n",
              "      <td>0.932</td>\n",
              "      <td>0.836</td>\n",
              "      <td>0.902</td>\n",
              "      <td>0.716</td>\n",
              "    </tr>\n",
              "    <tr>\n",
              "      <td>Promedio</td>\n",
              "      <td>0.856</td>\n",
              "      <td>0.725</td>\n",
              "      <td>0.914</td>\n",
              "      <td>0.819</td>\n",
              "      <td>0.874</td>\n",
              "      <td>0.707</td>\n",
              "    </tr>\n",
              "    <tr>\n",
              "      <td>Global</td>\n",
              "      <td>(NO)</td>\n",
              "      <td>0.725</td>\n",
              "      <td>(NO)</td>\n",
              "      <td>0.822</td>\n",
              "      <td>(NO)</td>\n",
              "      <td>0.712</td>\n",
              "    </tr>\n",
              "  </tbody>\n",
              "</table>"
            ],
            "text/plain": [
              "<IPython.core.display.HTML object>"
            ]
          },
          "metadata": {},
          "output_type": "display_data"
        }
      ],
      "source": [
        "# Cosas extra que quisimos probar por curiosidad:\n",
        "\n",
        "#  Dado que la clase mayoritaria son los negativos, probamos invertir las etiquetas y ver que sucede\n",
        "#  Invirtiendo las etiquetas de las predicciones observamos que las metricas dan numeros mas altos\n",
        "\n",
        "# datos\n",
        "desarrollo_set = desarrollo_set.reset_index(drop=True)\n",
        "x_desarrollo = desarrollo_set.drop('target', axis=1)\n",
        "y_desarrollo = desarrollo_set['target']\n",
        "\n",
        "# inversion de clases positiva a negativa y negativa a positiva\n",
        "y_desarrollo_invertida = 1 - y_desarrollo\n",
        "\n",
        "# hacemos los k folds\n",
        "folds = StratifiedKFold(n_splits=5, shuffle=True, random_state=22)\n",
        "\n",
        "# vectores de metricas\n",
        "vector_accuracy_train = []\n",
        "vector_accuracy_validacion = []\n",
        "vector_auprc_train = []\n",
        "vector_auprc_validacion = []\n",
        "vector_auroc_train = []\n",
        "vector_auroc_validacion = []\n",
        "\n",
        "# prediciones globales\n",
        "y_pred = np.empty(y_desarrollo.shape)\n",
        "y_pred.fill(np.nan)\n",
        "y_pred_prob = np.empty(y_desarrollo.shape)\n",
        "y_pred_prob.fill(np.nan)\n",
        "\n",
        "# empezamos el train\n",
        "for train_index, test_index in folds.split(x_desarrollo, y_desarrollo_invertida):\n",
        "    kf_X_train, kf_X_test = x_desarrollo.iloc[train_index], x_desarrollo.iloc[test_index]\n",
        "    kf_y_train, kf_y_test = y_desarrollo_invertida.iloc[train_index], y_desarrollo_invertida.iloc[test_index]\n",
        "\n",
        "    arbol = DecisionTreeClassifier(max_depth=3)\n",
        "    arbol.fit(kf_X_train, kf_y_train)\n",
        "\n",
        "    y_pred_fold = arbol.predict(kf_X_test)\n",
        "    y_pred_prob_fold = arbol.predict_proba(kf_X_test)[:, 1]\n",
        "\n",
        "    y_pred[test_index] = y_pred_fold\n",
        "    y_pred_prob[test_index] = y_pred_prob_fold\n",
        "\n",
        "    vector_accuracy_train.append(accuracy_score(kf_y_train, arbol.predict(kf_X_train)))\n",
        "    vector_accuracy_validacion.append(accuracy_score(kf_y_test, y_pred_fold))\n",
        "    vector_auprc_train.append(average_precision_score(kf_y_train, arbol.predict_proba(kf_X_train)[:, 1]))\n",
        "    vector_auprc_validacion.append(average_precision_score(kf_y_test, y_pred_prob_fold))\n",
        "    vector_auroc_train.append(roc_auc_score(kf_y_train, arbol.predict_proba(kf_X_train)[:, 1]))\n",
        "    vector_auroc_validacion.append(roc_auc_score(kf_y_test, y_pred_prob_fold))\n",
        "\n",
        "# calculamos metricas globales\n",
        "accuracy_global = accuracy_score(y_desarrollo_invertida, y_pred)\n",
        "auprc_global = average_precision_score(y_desarrollo_invertida, y_pred_prob)\n",
        "auroc_global = roc_auc_score(y_desarrollo_invertida, y_pred_prob)\n",
        "\n",
        "# hagamos una tabla para ver los resultados :\n",
        "tabla_resultados = pd.DataFrame({\n",
        "    \"Permutación\": list(range(1, 6)),\n",
        "    \"Accuracy (training)\": [round(x, 3) for x in vector_accuracy_train],\n",
        "    \"Accuracy (validación)\": [round(x, 3) for x in vector_accuracy_validacion],\n",
        "    \"AUPRC (training)\": [round(x, 3) for x in vector_auprc_train],\n",
        "    \"AUPRC (validación)\": [round(x, 3) for x in vector_auprc_validacion],\n",
        "    \"AUC ROC (training)\": [round(x, 3) for x in vector_auroc_train],\n",
        "    \"AUC ROC (validación)\": [round(x, 3) for x in vector_auroc_validacion]\n",
        "})\n",
        "\n",
        "\n",
        "promedios = {\n",
        "    \"Permutación\": \"Promedio\",\n",
        "    \"Accuracy (training)\": round(np.mean(vector_accuracy_train), 3),\n",
        "    \"Accuracy (validación)\": round(np.mean(vector_accuracy_validacion), 3),\n",
        "    \"AUPRC (training)\": round(np.mean(vector_auprc_train), 3),\n",
        "    \"AUPRC (validación)\": round(np.mean(vector_auprc_validacion), 3),\n",
        "    \"AUC ROC (training)\": round(np.mean(vector_auroc_train), 3),\n",
        "    \"AUC ROC (validación)\": round(np.mean(vector_auroc_validacion), 3)\n",
        "}\n",
        "\n",
        "globales = {\n",
        "    \"Permutación\": \"Global\",\n",
        "    \"Accuracy (training)\": \"(NO)\",\n",
        "    \"Accuracy (validación)\": round(accuracy_global, 3),\n",
        "    \"AUPRC (training)\": \"(NO)\",\n",
        "    \"AUPRC (validación)\": round(auprc_global, 3),\n",
        "    \"AUC ROC (training)\": \"(NO)\",\n",
        "    \"AUC ROC (validación)\": round(auroc_global, 3)\n",
        "}\n",
        "\n",
        "tabla_resultados = pd.concat([\n",
        "    tabla_resultados,\n",
        "    pd.DataFrame([promedios]),\n",
        "    pd.DataFrame([globales])\n",
        "], ignore_index=True)\n",
        "\n",
        "display(HTML(tabla_resultados.to_html(index=False, justify='center')))"
      ]
    },
    {
      "cell_type": "markdown",
      "metadata": {
        "id": "wcLphbYoWjCF"
      },
      "source": [
        "Algunas conclusiones : el accuracy y el AUCROC no cambian mucho , tiene sentido ya que no dependen de a que clases tomamos como positivas o negativas. Por otro lado el AUPRC cambia bastante, ya que dependen de que clase tomamos como positiva. Lo notamos haciendo el experimento con las clases invertidas. Esto no dice que la metrica AUPRC depende de la elección de la clase positiva."
      ]
    },
    {
      "cell_type": "markdown",
      "metadata": {
        "id": "zS1y77haAA9C"
      },
      "source": [
        "> *Explorar las siguientes combinaciones de parámetros para árboles de decisión utilizando `ParameterGrid` de scikit learn. No está permitido utilizar `GridSearchCV` en este ejercicio.*"
      ]
    },
    {
      "cell_type": "code",
      "execution_count": 18,
      "metadata": {
        "colab": {
          "base_uri": "https://localhost:8080/",
          "height": 237
        },
        "id": "-2rSnCWDAGrT",
        "outputId": "2d38e06f-3a10-4997-f432-36874d5eea1a"
      },
      "outputs": [
        {
          "data": {
            "text/html": [
              "<table border=\"1\" class=\"dataframe\">\n",
              "  <thead>\n",
              "    <tr style=\"text-align: center;\">\n",
              "      <th>Altura máxima</th>\n",
              "      <th>Criterio de corte</th>\n",
              "      <th>Accuracy (train)</th>\n",
              "      <th>Accuracy (val)</th>\n",
              "    </tr>\n",
              "  </thead>\n",
              "  <tbody>\n",
              "    <tr>\n",
              "      <td>3</td>\n",
              "      <td>Gini</td>\n",
              "      <td>0.856</td>\n",
              "      <td>0.725</td>\n",
              "    </tr>\n",
              "    <tr>\n",
              "      <td>5</td>\n",
              "      <td>Gini</td>\n",
              "      <td>0.960</td>\n",
              "      <td>0.718</td>\n",
              "    </tr>\n",
              "    <tr>\n",
              "      <td>Infinito</td>\n",
              "      <td>Gini</td>\n",
              "      <td>1.000</td>\n",
              "      <td>0.680</td>\n",
              "    </tr>\n",
              "    <tr>\n",
              "      <td>3</td>\n",
              "      <td>Entropía</td>\n",
              "      <td>0.840</td>\n",
              "      <td>0.710</td>\n",
              "    </tr>\n",
              "    <tr>\n",
              "      <td>5</td>\n",
              "      <td>Entropía</td>\n",
              "      <td>0.948</td>\n",
              "      <td>0.692</td>\n",
              "    </tr>\n",
              "    <tr>\n",
              "      <td>Infinito</td>\n",
              "      <td>Entropía</td>\n",
              "      <td>1.000</td>\n",
              "      <td>0.692</td>\n",
              "    </tr>\n",
              "  </tbody>\n",
              "</table>"
            ],
            "text/plain": [
              "<IPython.core.display.HTML object>"
            ]
          },
          "metadata": {},
          "output_type": "display_data"
        }
      ],
      "source": [
        "# Probamos disitnos parametros para nuestro arbol de decision\n",
        "folds = StratifiedKFold(n_splits=5, shuffle=True, random_state = 22)\n",
        "\n",
        "# Definimos el grid de parámetros que antes recorríamos manualmente\n",
        "param_grid = {\n",
        "    'max_depth': [3, 5, None],\n",
        "    'criterion': ['gini', 'entropy']\n",
        "}\n",
        "\n",
        "# Usamos ParameterGrid\n",
        "grid = ParameterGrid(param_grid)\n",
        "\n",
        "accuracy_validacion = {}\n",
        "accuracy_train = {}\n",
        "\n",
        "# Recorremos cada combinación de parámetros del grid\n",
        "for params in grid:\n",
        "    a = params['max_depth']\n",
        "    c = params['criterion']\n",
        "\n",
        "    vector_accuracy_validacion= []  # aca vamos a guardar los resultados de acurracy para cada fold de la validacion\n",
        "    vector_accuracy_train= []       # y del training\n",
        "\n",
        "    # generamos para cada fold una predicción\n",
        "    for train_index, test_index in folds.split(x_desarrollo,y_desarrollo):\n",
        "\n",
        "        #saco el fold que no uso para entrenar\n",
        "        kf_X_train, kf_X_test = x_desarrollo.iloc[train_index], x_desarrollo.iloc[test_index]\n",
        "        kf_y_train, kf_y_test = y_desarrollo.iloc[train_index], y_desarrollo.iloc[test_index]\n",
        "\n",
        "        # arbol fit con los datos de train\n",
        "        arbol = DecisionTreeClassifier(max_depth=a, criterion=c)\n",
        "        arbol.fit(kf_X_train, kf_y_train)\n",
        "\n",
        "        y_pred_val = arbol.predict(kf_X_test)\n",
        "        acc_val = accuracy_score(kf_y_test, y_pred_val)\n",
        "        vector_accuracy_validacion.append(acc_val)\n",
        "\n",
        "        y_pred_train = arbol.predict(kf_X_train)\n",
        "        acc_train = accuracy_score(kf_y_train, y_pred_train)\n",
        "        vector_accuracy_train.append(acc_train)\n",
        "\n",
        "    # Guardamos el promedio de accuracy de los folds\n",
        "    accuracy_validacion[(a, c)] = np.mean(vector_accuracy_validacion)\n",
        "    accuracy_train[(a, c)] = np.mean(vector_accuracy_train)\n",
        "\n",
        "# hacemos la tabla de resultados :\n",
        "# Lista para guardar filas de la tabla\n",
        "tabla_resultados = []\n",
        "\n",
        "# Recorremos las claves del diccionario (pares de (altura, criterio))\n",
        "for clave in accuracy_train.keys():\n",
        "    altura, criterio = clave\n",
        "    acc_train = accuracy_train[clave]\n",
        "    acc_val = accuracy_validacion[clave]\n",
        "\n",
        "    # Convertimos None en \"Infinito\" para mostrar en la tabla\n",
        "    altura_str = 'Infinito' if altura is None else altura\n",
        "    criterio_str = 'Gini' if criterio == 'gini' else 'Entropía'\n",
        "\n",
        "    # Agregamos una fila a la tabla\n",
        "    tabla_resultados.append({\n",
        "        'Altura máxima': altura_str,\n",
        "        'Criterio de corte': criterio_str,\n",
        "        'Accuracy (train)': round(acc_train, 3),\n",
        "        'Accuracy (val)': round(acc_val, 3)\n",
        "    })\n",
        "\n",
        "df_resultados = pd.DataFrame(tabla_resultados)\n",
        "display(HTML(df_resultados.to_html(index=False, justify='center')))\n"
      ]
    },
    {
      "cell_type": "markdown",
      "metadata": {
        "id": "ZFuFzoZpFSJe"
      },
      "source": [
        "Claramente a medida de que aumentamos la altura maxima del arbol, vemos que la accuracy en los datos de train tiende a 100%, lo que tiene sentido, ya que clasifica bien todos estos datos (los memoriza). Es decir, que el modelo a medida que la altura tiende a inf overfitea. A su vez, para los datos de validacion, el accuracy resulta peor. El modelo memoriza los datos de entrenamiendo y luego tiene un rendimiento peor en los datos de validacion."
      ]
    },
    {
      "cell_type": "markdown",
      "metadata": {
        "id": "08QWSDpuGclp"
      },
      "source": [
        "Por curiosidad propia, estuvimos probando con otros valores y llegamos a la conclusion que la mejor altura es 2, ya que no solo, comparado a la performarnce en el test con otra alturas, es mejor, sino que tambien la diferencia con los datos de training es menor, osea que esta generalizando bastante bien, y no memoriza solo los datos de entrenamiento."
      ]
    },
    {
      "cell_type": "code",
      "execution_count": 19,
      "metadata": {
        "colab": {
          "base_uri": "https://localhost:8080/",
          "height": 112
        },
        "id": "nAoleS0feb2-",
        "outputId": "2d977291-2180-4952-bb63-d344d6443ccd"
      },
      "outputs": [
        {
          "data": {
            "text/html": [
              "<table border=\"1\" class=\"dataframe\">\n",
              "  <thead>\n",
              "    <tr style=\"text-align: center;\">\n",
              "      <th>Altura máxima</th>\n",
              "      <th>Criterio de corte</th>\n",
              "      <th>Accuracy (train)</th>\n",
              "      <th>Accuracy (val)</th>\n",
              "    </tr>\n",
              "  </thead>\n",
              "  <tbody>\n",
              "    <tr>\n",
              "      <td>2</td>\n",
              "      <td>Gini</td>\n",
              "      <td>0.784</td>\n",
              "      <td>0.722</td>\n",
              "    </tr>\n",
              "    <tr>\n",
              "      <td>2</td>\n",
              "      <td>Entropía</td>\n",
              "      <td>0.779</td>\n",
              "      <td>0.735</td>\n",
              "    </tr>\n",
              "  </tbody>\n",
              "</table>"
            ],
            "text/plain": [
              "<IPython.core.display.HTML object>"
            ]
          },
          "metadata": {},
          "output_type": "display_data"
        }
      ],
      "source": [
        "# mostramos la tabla que nos salio\n",
        "tabla = [\n",
        "    {'Altura máxima': 2, 'Criterio de corte': 'Gini', 'Accuracy (train)': 0.784, 'Accuracy (val)': 0.722},\n",
        "    {'Altura máxima': 2, 'Criterio de corte': 'Entropía', 'Accuracy (train)': 0.779, 'Accuracy (val)': 0.735}\n",
        "]\n",
        "\n",
        "df_tabla = pd.DataFrame(tabla)\n",
        "\n",
        "display(HTML(df_tabla.to_html(index=False, justify='center')))"
      ]
    },
    {
      "cell_type": "markdown",
      "metadata": {
        "id": "gaVJn8Bbj5g0"
      },
      "source": [
        "# Ejercicio 3\n",
        "\n",
        "*Importante: de acá en más sólamente utilizaremos el score promedio cuando hagamos K-fold cross-validation.*\n",
        "\n",
        "<u>Para el árbol de decisión elegimos jugar con los siguientes hiperparámetros:</u>\n",
        "\n",
        "* Max_depth (para regular el tamaño del árbol)\n",
        "* class_weight (para tratar el desbalanceo de clases que tenemos)\n",
        "* criterion (puede ser Gini o Entropia)\n",
        "* min_samples_split (para definir cuántos hijos vamos a tener por rama como máximo)\n",
        "\n",
        "<u>Por otro lado, para KNN elegimos:</u>\n",
        "\n",
        "* La cantidad de vecinos (k)\n",
        "* weights (darle más peso a los que están más cercanos y menos a los más alejados)\n",
        "* metrics (el tipo de distancia que usamos, tenemos 3 distintas)\n",
        "\n",
        "<u>Finalmente, para SVM:</u>\n",
        "\n",
        "* C (penalización por clasificación equivocada)\n",
        "* kernel (tenemos el radial, lineal, sigmoide, polinomico)\n",
        "* Gamma\n",
        "* class_weight (al ser desbalanceada nos conviene jugar con esto)\n"
      ]
    },
    {
      "cell_type": "markdown",
      "metadata": {
        "id": "j9eIiPtZv0g4"
      },
      "source": [
        "# Árboles de Decisión\n"
      ]
    },
    {
      "cell_type": "code",
      "execution_count": 20,
      "metadata": {
        "colab": {
          "base_uri": "https://localhost:8080/",
          "height": 536
        },
        "id": "UehCQwm1Skcs",
        "outputId": "616aecee-2ce7-425d-9254-767d08b22ee5"
      },
      "outputs": [
        {
          "data": {
            "text/html": [
              "<div>\n",
              "<style scoped>\n",
              "    .dataframe tbody tr th:only-of-type {\n",
              "        vertical-align: middle;\n",
              "    }\n",
              "\n",
              "    .dataframe tbody tr th {\n",
              "        vertical-align: top;\n",
              "    }\n",
              "\n",
              "    .dataframe thead th {\n",
              "        text-align: right;\n",
              "    }\n",
              "</style>\n",
              "<table border=\"1\" class=\"dataframe\">\n",
              "  <thead>\n",
              "    <tr style=\"text-align: right;\">\n",
              "      <th></th>\n",
              "      <th>param_max_depth</th>\n",
              "      <th>param_min_samples_split</th>\n",
              "      <th>param_criterion</th>\n",
              "      <th>param_class_weight</th>\n",
              "      <th>mean_test_roc_auc</th>\n",
              "      <th>mean_train_roc_auc</th>\n",
              "    </tr>\n",
              "  </thead>\n",
              "  <tbody>\n",
              "    <tr>\n",
              "      <th>1</th>\n",
              "      <td>2</td>\n",
              "      <td>250</td>\n",
              "      <td>entropy</td>\n",
              "      <td>balanced</td>\n",
              "      <td>0.6840</td>\n",
              "      <td>0.7055</td>\n",
              "    </tr>\n",
              "    <tr>\n",
              "      <th>14</th>\n",
              "      <td>None</td>\n",
              "      <td>250</td>\n",
              "      <td>entropy</td>\n",
              "      <td>balanced</td>\n",
              "      <td>0.6840</td>\n",
              "      <td>0.7055</td>\n",
              "    </tr>\n",
              "    <tr>\n",
              "      <th>15</th>\n",
              "      <td>4</td>\n",
              "      <td>250</td>\n",
              "      <td>gini</td>\n",
              "      <td>balanced</td>\n",
              "      <td>0.6840</td>\n",
              "      <td>0.7055</td>\n",
              "    </tr>\n",
              "    <tr>\n",
              "      <th>9</th>\n",
              "      <td>None</td>\n",
              "      <td>250</td>\n",
              "      <td>gini</td>\n",
              "      <td>balanced</td>\n",
              "      <td>0.6840</td>\n",
              "      <td>0.7055</td>\n",
              "    </tr>\n",
              "    <tr>\n",
              "      <th>4</th>\n",
              "      <td>3</td>\n",
              "      <td>100</td>\n",
              "      <td>entropy</td>\n",
              "      <td>balanced</td>\n",
              "      <td>0.6676</td>\n",
              "      <td>0.7518</td>\n",
              "    </tr>\n",
              "    <tr>\n",
              "      <th>18</th>\n",
              "      <td>6</td>\n",
              "      <td>50</td>\n",
              "      <td>entropy</td>\n",
              "      <td>balanced</td>\n",
              "      <td>0.6565</td>\n",
              "      <td>0.8379</td>\n",
              "    </tr>\n",
              "    <tr>\n",
              "      <th>13</th>\n",
              "      <td>2</td>\n",
              "      <td>10</td>\n",
              "      <td>gini</td>\n",
              "      <td>balanced</td>\n",
              "      <td>0.6542</td>\n",
              "      <td>0.7484</td>\n",
              "    </tr>\n",
              "    <tr>\n",
              "      <th>2</th>\n",
              "      <td>3</td>\n",
              "      <td>10</td>\n",
              "      <td>entropy</td>\n",
              "      <td>balanced</td>\n",
              "      <td>0.6291</td>\n",
              "      <td>0.8273</td>\n",
              "    </tr>\n",
              "    <tr>\n",
              "      <th>6</th>\n",
              "      <td>3</td>\n",
              "      <td>100</td>\n",
              "      <td>gini</td>\n",
              "      <td>None</td>\n",
              "      <td>0.6192</td>\n",
              "      <td>0.7106</td>\n",
              "    </tr>\n",
              "    <tr>\n",
              "      <th>19</th>\n",
              "      <td>5</td>\n",
              "      <td>50</td>\n",
              "      <td>gini</td>\n",
              "      <td>balanced</td>\n",
              "      <td>0.6172</td>\n",
              "      <td>0.8575</td>\n",
              "    </tr>\n",
              "  </tbody>\n",
              "</table>\n",
              "</div>"
            ],
            "text/plain": [
              "   param_max_depth  param_min_samples_split param_criterion  \\\n",
              "1                2                      250         entropy   \n",
              "14            None                      250         entropy   \n",
              "15               4                      250            gini   \n",
              "9             None                      250            gini   \n",
              "4                3                      100         entropy   \n",
              "18               6                       50         entropy   \n",
              "13               2                       10            gini   \n",
              "2                3                       10         entropy   \n",
              "6                3                      100            gini   \n",
              "19               5                       50            gini   \n",
              "\n",
              "   param_class_weight  mean_test_roc_auc  mean_train_roc_auc  \n",
              "1            balanced             0.6840              0.7055  \n",
              "14           balanced             0.6840              0.7055  \n",
              "15           balanced             0.6840              0.7055  \n",
              "9            balanced             0.6840              0.7055  \n",
              "4            balanced             0.6676              0.7518  \n",
              "18           balanced             0.6565              0.8379  \n",
              "13           balanced             0.6542              0.7484  \n",
              "2            balanced             0.6291              0.8273  \n",
              "6                None             0.6192              0.7106  \n",
              "19           balanced             0.6172              0.8575  "
            ]
          },
          "metadata": {},
          "output_type": "display_data"
        },
        {
          "name": "stdout",
          "output_type": "stream",
          "text": [
            "Cantiad de combinaciones:  20\n",
            " \n",
            "El mejor AUROC promedio en validación obtenido fue de: 0.684\n",
            " \n",
            "Los mejores hiperparámetros obtenidos\n",
            " \n",
            "Profundidad del árbol  : 2\n",
            "Mínimos samples split  : 250\n",
            "Criterio               : entropy\n",
            "Class weight           : balanced\n"
          ]
        }
      ],
      "source": [
        "# primero vemos que hieprparametros vamos a elejir para armar los arboles\n",
        "\n",
        "param_distributions = {\n",
        "    \"max_depth\": [2, 3, 4, 5, 6, None],                 # profundidad máxima\n",
        "    \"class_weight\": [None, \"balanced\"],                 # para desbalanceo\n",
        "    \"criterion\": [\"gini\", \"entropy\"],                   # función de impureza\n",
        "    \"min_samples_split\": [10, 50, 100, 200, 250]        # mínimo para dividir\n",
        "}\n",
        "\n",
        "#  creamos el arbolito\n",
        "arbol = DecisionTreeClassifier(random_state=0)\n",
        "\n",
        "# como metrica vamos a usar AUCROC\n",
        "scoring = {\n",
        "    \"roc_auc\": make_scorer(roc_auc_score),\n",
        "    \"auprc\": make_scorer(average_precision_score),\n",
        "    \"accuracy\": \"accuracy\" # Puedes usar el string para métricas comunes\n",
        "}\n",
        "\n",
        "# Ahora utilizamos la funcion RandomizedSearchCV\n",
        "search = RandomizedSearchCV(\n",
        "    estimator=arbol,\n",
        "    param_distributions=param_distributions,\n",
        "    n_iter=20,\n",
        "    scoring=scoring,\n",
        "    refit=\"roc_auc\",\n",
        "    cv=5,\n",
        "    # Habilita la creación de las columnas 'mean_train_...'\n",
        "    return_train_score=True,\n",
        "    random_state=0\n",
        ")\n",
        "\n",
        "\n",
        "search.fit(x_desarrollo, y_desarrollo)\n",
        "\n",
        "\n",
        "# printeamos los resultados en una tabla en orden de los que dieron mejor AUCROC\n",
        "\n",
        "cvres = pd.DataFrame(search.cv_results_).sort_values(\"mean_test_roc_auc\", ascending=False)\n",
        "cols = [\n",
        "    \"param_max_depth\",\n",
        "    \"param_min_samples_split\",\n",
        "    \"param_criterion\",\n",
        "    \"param_class_weight\",\n",
        "    \"mean_test_roc_auc\",\n",
        "    \"mean_train_roc_auc\",\n",
        "]\n",
        "display(cvres[cols].head(10).round(4))\n",
        "\n",
        "print(\"Cantiad de combinaciones: \", 20 )\n",
        "print(\" \")\n",
        "print(\"El mejor AUROC promedio en validación obtenido fue de:\", search.best_score_.round(4))\n",
        "print(\" \")\n",
        "# Mejor combinación de hiperparámetros\n",
        "print(\"Los mejores hiperparámetros obtenidos\")\n",
        "print(\" \")\n",
        "print(\"Profundidad del árbol  :\", search.best_params_['max_depth'])\n",
        "print(\"Mínimos samples split  :\", search.best_params_['min_samples_split'])\n",
        "print(\"Criterio               :\", search.best_params_['criterion'])\n",
        "print(\"Class weight           :\", search.best_params_['class_weight'])\n",
        "\n",
        "\n",
        "df_tabla = cvres[cols].round(4)"
      ]
    },
    {
      "cell_type": "markdown",
      "metadata": {
        "id": "-5mYizrzb7To"
      },
      "source": [
        "# KNN"
      ]
    },
    {
      "cell_type": "code",
      "execution_count": 21,
      "metadata": {
        "colab": {
          "base_uri": "https://localhost:8080/",
          "height": 484
        },
        "id": "aMfAW09vb9aX",
        "outputId": "70149a75-5f33-48dd-a659-288ee36cdc66"
      },
      "outputs": [
        {
          "name": "stdout",
          "output_type": "stream",
          "text": [
            "\n",
            " Top 10 de los mejores resultados de KNN :\n"
          ]
        },
        {
          "data": {
            "text/html": [
              "<table border=\"1\" class=\"dataframe\">\n",
              "  <thead>\n",
              "    <tr style=\"text-align: center;\">\n",
              "      <th>K (Vecinos)</th>\n",
              "      <th>Weights</th>\n",
              "      <th>Métrica de Distancia</th>\n",
              "      <th>AUROC val promedio</th>\n",
              "      <th>AUROC train promedio</th>\n",
              "    </tr>\n",
              "  </thead>\n",
              "  <tbody>\n",
              "    <tr>\n",
              "      <td>58</td>\n",
              "      <td>distance</td>\n",
              "      <td>manhattan</td>\n",
              "      <td>0.8759</td>\n",
              "      <td>1.0000</td>\n",
              "    </tr>\n",
              "    <tr>\n",
              "      <td>63</td>\n",
              "      <td>uniform</td>\n",
              "      <td>manhattan</td>\n",
              "      <td>0.8603</td>\n",
              "      <td>0.8843</td>\n",
              "    </tr>\n",
              "    <tr>\n",
              "      <td>35</td>\n",
              "      <td>distance</td>\n",
              "      <td>minkowski</td>\n",
              "      <td>0.8589</td>\n",
              "      <td>1.0000</td>\n",
              "    </tr>\n",
              "    <tr>\n",
              "      <td>22</td>\n",
              "      <td>uniform</td>\n",
              "      <td>minkowski</td>\n",
              "      <td>0.8477</td>\n",
              "      <td>0.9034</td>\n",
              "    </tr>\n",
              "    <tr>\n",
              "      <td>62</td>\n",
              "      <td>distance</td>\n",
              "      <td>minkowski</td>\n",
              "      <td>0.8473</td>\n",
              "      <td>1.0000</td>\n",
              "    </tr>\n",
              "    <tr>\n",
              "      <td>62</td>\n",
              "      <td>uniform</td>\n",
              "      <td>minkowski</td>\n",
              "      <td>0.8319</td>\n",
              "      <td>0.8533</td>\n",
              "    </tr>\n",
              "    <tr>\n",
              "      <td>96</td>\n",
              "      <td>uniform</td>\n",
              "      <td>manhattan</td>\n",
              "      <td>0.8243</td>\n",
              "      <td>0.8481</td>\n",
              "    </tr>\n",
              "    <tr>\n",
              "      <td>108</td>\n",
              "      <td>distance</td>\n",
              "      <td>minkowski</td>\n",
              "      <td>0.8185</td>\n",
              "      <td>1.0000</td>\n",
              "    </tr>\n",
              "    <tr>\n",
              "      <td>112</td>\n",
              "      <td>distance</td>\n",
              "      <td>euclidean</td>\n",
              "      <td>0.8159</td>\n",
              "      <td>1.0000</td>\n",
              "    </tr>\n",
              "    <tr>\n",
              "      <td>149</td>\n",
              "      <td>distance</td>\n",
              "      <td>manhattan</td>\n",
              "      <td>0.8132</td>\n",
              "      <td>1.0000</td>\n",
              "    </tr>\n",
              "  </tbody>\n",
              "</table>"
            ],
            "text/plain": [
              "<IPython.core.display.HTML object>"
            ]
          },
          "metadata": {},
          "output_type": "display_data"
        },
        {
          "name": "stdout",
          "output_type": "stream",
          "text": [
            "Cantidad de combinaciones: 30\n",
            " \n",
            "Mejores hiperparámetros: {'weights': 'distance', 'n_neighbors': 58, 'metric': 'manhattan'}\n",
            " \n",
            "Mejor AUROC promedio en validación: 0.8759\n"
          ]
        }
      ],
      "source": [
        "\n",
        "param_distributions_knn = {\n",
        "    \"n_neighbors\": list(range(1,300)),\n",
        "    \"weights\": [\"uniform\", \"distance\"],\n",
        "    \"metric\": [\"euclidean\", \"manhattan\", \"minkowski\"],\n",
        "}\n",
        "\n",
        "knn = KNeighborsClassifier()\n",
        "\n",
        "# Solo AUROC\n",
        "scoring_knn = \"roc_auc\"\n",
        "\n",
        "search_knn = RandomizedSearchCV(\n",
        "    estimator=knn,\n",
        "    param_distributions=param_distributions_knn,\n",
        "    n_iter= 30 ,\n",
        "    scoring=scoring_knn,\n",
        "    refit=True,\n",
        "    cv=5,\n",
        "    return_train_score=True,\n",
        "    random_state=0\n",
        ")\n",
        "\n",
        "# BUSCAMOS\n",
        "search_knn.fit(x_desarrollo, y_desarrollo)\n",
        "\n",
        "\n",
        "# tabla de resultados ordenada\n",
        "cvres_knn = pd.DataFrame(search_knn.cv_results_).sort_values(\n",
        "    \"mean_test_score\", ascending=False\n",
        ")\n",
        "\n",
        "cols_knn = [\n",
        "    \"param_n_neighbors\",\n",
        "    \"param_weights\",\n",
        "    \"param_metric\",\n",
        "    \"mean_test_score\",\n",
        "    \"mean_train_score\",\n",
        "]\n",
        "\n",
        "mapeo_nombres_knn = {\n",
        "    \"param_n_neighbors\": \"K (Vecinos)\",\n",
        "    \"param_weights\": \"Weights\",\n",
        "    \"param_metric\": \"Métrica de Distancia\",\n",
        "    \"mean_test_score\": \"AUROC val promedio\",\n",
        "    \"mean_train_score\": \"AUROC train promedio\",\n",
        "}\n",
        "\n",
        "print(\"\\n Top 10 de los mejores resultados de KNN :\")\n",
        "\n",
        "\n",
        "display(HTML(\n",
        "    cvres_knn[cols_knn]\n",
        "    .head(10)\n",
        "    .round(4)\n",
        "    .rename(columns=mapeo_nombres_knn)\n",
        "    .to_html(index=False, justify='center')\n",
        "))\n",
        "\n",
        "\n",
        "# printeamos los resultados\n",
        "print(\"Cantidad de combinaciones:\",30)\n",
        "print(\" \")\n",
        "print(\"Mejores hiperparámetros:\", search_knn.best_params_)\n",
        "print(\" \")\n",
        "print(\"Mejor AUROC promedio en validación:\", search_knn.best_score_.round(4))\n",
        "\n"
      ]
    },
    {
      "cell_type": "markdown",
      "metadata": {
        "id": "dNi2QmXml4w3"
      },
      "source": [
        "Mirando cuanto nos dan los valores en el conjunto de entrenamiento, creemos que el modelo esta haciendo overfitting..."
      ]
    },
    {
      "cell_type": "markdown",
      "metadata": {
        "id": "-dO_oh4bmBSA"
      },
      "source": [
        "Veamos de los que son buenos, cuales sobreajustan menos. Para esto se nos ocurrió observar no solo el promedio de la metrica en el set de validacion, sino tambien observar la diferencia entre dicho valor y el promedio de la metrica en el set de train (s esto le llamamos \"gap\")."
      ]
    },
    {
      "cell_type": "code",
      "execution_count": 22,
      "metadata": {
        "colab": {
          "base_uri": "https://localhost:8080/",
          "height": 397
        },
        "id": "ZGQnb-H5iJDU",
        "outputId": "bca7d1f2-ce8c-4096-8c57-237ad73f0010"
      },
      "outputs": [
        {
          "name": "stdout",
          "output_type": "stream",
          "text": [
            "\n",
            "Top 10 con menor gap entre train y validacion:\n"
          ]
        },
        {
          "data": {
            "text/html": [
              "<table border=\"1\" class=\"dataframe\">\n",
              "  <thead>\n",
              "    <tr style=\"text-align: center;\">\n",
              "      <th>K (Vecinos)</th>\n",
              "      <th>Weights</th>\n",
              "      <th>Métrica de Distancia</th>\n",
              "      <th>AUROC val promedio</th>\n",
              "      <th>AUROC train promedio</th>\n",
              "      <th>Gap |Train - Val|</th>\n",
              "    </tr>\n",
              "  </thead>\n",
              "  <tbody>\n",
              "    <tr>\n",
              "      <td>220</td>\n",
              "      <td>uniform</td>\n",
              "      <td>euclidean</td>\n",
              "      <td>0.7346</td>\n",
              "      <td>0.7425</td>\n",
              "      <td>0.0079</td>\n",
              "    </tr>\n",
              "    <tr>\n",
              "      <td>255</td>\n",
              "      <td>uniform</td>\n",
              "      <td>minkowski</td>\n",
              "      <td>0.7163</td>\n",
              "      <td>0.7246</td>\n",
              "      <td>0.0083</td>\n",
              "    </tr>\n",
              "    <tr>\n",
              "      <td>132</td>\n",
              "      <td>uniform</td>\n",
              "      <td>euclidean</td>\n",
              "      <td>0.7961</td>\n",
              "      <td>0.8049</td>\n",
              "      <td>0.0087</td>\n",
              "    </tr>\n",
              "    <tr>\n",
              "      <td>230</td>\n",
              "      <td>uniform</td>\n",
              "      <td>euclidean</td>\n",
              "      <td>0.7271</td>\n",
              "      <td>0.7380</td>\n",
              "      <td>0.0109</td>\n",
              "    </tr>\n",
              "    <tr>\n",
              "      <td>234</td>\n",
              "      <td>uniform</td>\n",
              "      <td>minkowski</td>\n",
              "      <td>0.7227</td>\n",
              "      <td>0.7346</td>\n",
              "      <td>0.0119</td>\n",
              "    </tr>\n",
              "    <tr>\n",
              "      <td>232</td>\n",
              "      <td>uniform</td>\n",
              "      <td>minkowski</td>\n",
              "      <td>0.7216</td>\n",
              "      <td>0.7373</td>\n",
              "      <td>0.0158</td>\n",
              "    </tr>\n",
              "    <tr>\n",
              "      <td>87</td>\n",
              "      <td>uniform</td>\n",
              "      <td>minkowski</td>\n",
              "      <td>0.8072</td>\n",
              "      <td>0.8231</td>\n",
              "      <td>0.0159</td>\n",
              "    </tr>\n",
              "    <tr>\n",
              "      <td>92</td>\n",
              "      <td>uniform</td>\n",
              "      <td>euclidean</td>\n",
              "      <td>0.8010</td>\n",
              "      <td>0.8204</td>\n",
              "      <td>0.0195</td>\n",
              "    </tr>\n",
              "    <tr>\n",
              "      <td>62</td>\n",
              "      <td>uniform</td>\n",
              "      <td>minkowski</td>\n",
              "      <td>0.8319</td>\n",
              "      <td>0.8533</td>\n",
              "      <td>0.0215</td>\n",
              "    </tr>\n",
              "    <tr>\n",
              "      <td>96</td>\n",
              "      <td>uniform</td>\n",
              "      <td>manhattan</td>\n",
              "      <td>0.8243</td>\n",
              "      <td>0.8481</td>\n",
              "      <td>0.0238</td>\n",
              "    </tr>\n",
              "  </tbody>\n",
              "</table>"
            ],
            "text/plain": [
              "<IPython.core.display.HTML object>"
            ]
          },
          "metadata": {},
          "output_type": "display_data"
        }
      ],
      "source": [
        "\n",
        "cvres_overfit = cvres_knn.copy()\n",
        "cvres_overfit = cvres_overfit[cvres_overfit[\"mean_train_score\"] > cvres_overfit[\"mean_test_score\"]]\n",
        "cvres_overfit[\"generalization_gap\"] = (cvres_overfit[\"mean_train_score\"] - cvres_overfit[\"mean_test_score\"]).abs()\n",
        "\n",
        "# ordenamos por menor gap y, a igualdad de gap, mejor AUROC de validación\n",
        "cvres_overfit = cvres_overfit.sort_values(\n",
        "    by=[\"generalization_gap\",\"mean_test_score\"],\n",
        "    ascending=[True,False]\n",
        ")\n",
        "\n",
        "cols_overfit = [\n",
        "    \"param_n_neighbors\",\n",
        "    \"param_weights\",\n",
        "    \"param_metric\",\n",
        "    \"mean_test_score\",\n",
        "    \"mean_train_score\",\n",
        "    \"generalization_gap\",\n",
        "]\n",
        "\n",
        "mapeo_nombres_knn[\"generalization_gap\"] = \"Gap |Train - Val|\"\n",
        "\n",
        "print(\"\\nTop 10 con menor gap entre train y validacion:\")\n",
        "display(HTML(\n",
        "    cvres_overfit[cols_overfit]\n",
        "    .head(10)\n",
        "    .round(4)\n",
        "    .rename(columns=mapeo_nombres_knn)\n",
        "    .to_html(index=False, justify='center')\n",
        "))\n"
      ]
    },
    {
      "cell_type": "markdown",
      "metadata": {
        "id": "oOe1T1Pym7-Q"
      },
      "source": [
        "Como hay muchos casos en los que el aucroc en validacion nos da bastante alto , pero en el train nos da practicamente 1 ... nuestro modelo esta aprendiendose los datos de memoria y overfitea . Asi que decisimos tomar como \" el mejor\", el que tenga buen metrica AUCROC en validacion pero que tambien tenga poca diferencia entre lo que dio en train y val."
      ]
    },
    {
      "cell_type": "code",
      "execution_count": 23,
      "metadata": {
        "colab": {
          "base_uri": "https://localhost:8080/",
          "height": 887
        },
        "id": "ukJsJaUmkNP9",
        "outputId": "b218f17d-fb10-46f1-da30-3f212ed243ea"
      },
      "outputs": [
        {
          "name": "stdout",
          "output_type": "stream",
          "text": [
            "\n",
            "Top 10 balanceados (AUROC alto + poco gap):\n"
          ]
        },
        {
          "data": {
            "text/html": [
              "<div>\n",
              "<style scoped>\n",
              "    .dataframe tbody tr th:only-of-type {\n",
              "        vertical-align: middle;\n",
              "    }\n",
              "\n",
              "    .dataframe tbody tr th {\n",
              "        vertical-align: top;\n",
              "    }\n",
              "\n",
              "    .dataframe thead th {\n",
              "        text-align: right;\n",
              "    }\n",
              "</style>\n",
              "<table border=\"1\" class=\"dataframe\">\n",
              "  <thead>\n",
              "    <tr style=\"text-align: right;\">\n",
              "      <th></th>\n",
              "      <th>K (Vecinos)</th>\n",
              "      <th>Weights</th>\n",
              "      <th>Métrica de Distancia</th>\n",
              "      <th>AUROC val promedio</th>\n",
              "      <th>AUROC train promedio</th>\n",
              "      <th>Gap |Train - Val|</th>\n",
              "      <th>Score combinado (AUROC↑, Gap↓)</th>\n",
              "    </tr>\n",
              "  </thead>\n",
              "  <tbody>\n",
              "    <tr>\n",
              "      <th>19</th>\n",
              "      <td>63</td>\n",
              "      <td>uniform</td>\n",
              "      <td>manhattan</td>\n",
              "      <td>0.8603</td>\n",
              "      <td>0.8843</td>\n",
              "      <td>0.0240</td>\n",
              "      <td>0.9104</td>\n",
              "    </tr>\n",
              "    <tr>\n",
              "      <th>3</th>\n",
              "      <td>58</td>\n",
              "      <td>distance</td>\n",
              "      <td>manhattan</td>\n",
              "      <td>0.8759</td>\n",
              "      <td>1.0000</td>\n",
              "      <td>0.1241</td>\n",
              "      <td>0.8469</td>\n",
              "    </tr>\n",
              "    <tr>\n",
              "      <th>12</th>\n",
              "      <td>22</td>\n",
              "      <td>uniform</td>\n",
              "      <td>minkowski</td>\n",
              "      <td>0.8477</td>\n",
              "      <td>0.9034</td>\n",
              "      <td>0.0557</td>\n",
              "      <td>0.8132</td>\n",
              "    </tr>\n",
              "    <tr>\n",
              "      <th>25</th>\n",
              "      <td>62</td>\n",
              "      <td>uniform</td>\n",
              "      <td>minkowski</td>\n",
              "      <td>0.8319</td>\n",
              "      <td>0.8533</td>\n",
              "      <td>0.0215</td>\n",
              "      <td>0.7891</td>\n",
              "    </tr>\n",
              "    <tr>\n",
              "      <th>10</th>\n",
              "      <td>96</td>\n",
              "      <td>uniform</td>\n",
              "      <td>manhattan</td>\n",
              "      <td>0.8243</td>\n",
              "      <td>0.8481</td>\n",
              "      <td>0.0238</td>\n",
              "      <td>0.7527</td>\n",
              "    </tr>\n",
              "    <tr>\n",
              "      <th>9</th>\n",
              "      <td>35</td>\n",
              "      <td>distance</td>\n",
              "      <td>minkowski</td>\n",
              "      <td>0.8589</td>\n",
              "      <td>1.0000</td>\n",
              "      <td>0.1411</td>\n",
              "      <td>0.7498</td>\n",
              "    </tr>\n",
              "    <tr>\n",
              "      <th>0</th>\n",
              "      <td>87</td>\n",
              "      <td>uniform</td>\n",
              "      <td>minkowski</td>\n",
              "      <td>0.8072</td>\n",
              "      <td>0.8231</td>\n",
              "      <td>0.0159</td>\n",
              "      <td>0.6883</td>\n",
              "    </tr>\n",
              "    <tr>\n",
              "      <th>23</th>\n",
              "      <td>62</td>\n",
              "      <td>distance</td>\n",
              "      <td>minkowski</td>\n",
              "      <td>0.8473</td>\n",
              "      <td>1.0000</td>\n",
              "      <td>0.1527</td>\n",
              "      <td>0.6840</td>\n",
              "    </tr>\n",
              "    <tr>\n",
              "      <th>15</th>\n",
              "      <td>79</td>\n",
              "      <td>uniform</td>\n",
              "      <td>euclidean</td>\n",
              "      <td>0.8082</td>\n",
              "      <td>0.8328</td>\n",
              "      <td>0.0246</td>\n",
              "      <td>0.6813</td>\n",
              "    </tr>\n",
              "    <tr>\n",
              "      <th>5</th>\n",
              "      <td>92</td>\n",
              "      <td>uniform</td>\n",
              "      <td>euclidean</td>\n",
              "      <td>0.8010</td>\n",
              "      <td>0.8204</td>\n",
              "      <td>0.0195</td>\n",
              "      <td>0.6562</td>\n",
              "    </tr>\n",
              "  </tbody>\n",
              "</table>\n",
              "</div>"
            ],
            "text/plain": [
              "    K (Vecinos)   Weights Métrica de Distancia  AUROC val promedio  \\\n",
              "19           63   uniform            manhattan              0.8603   \n",
              "3            58  distance            manhattan              0.8759   \n",
              "12           22   uniform            minkowski              0.8477   \n",
              "25           62   uniform            minkowski              0.8319   \n",
              "10           96   uniform            manhattan              0.8243   \n",
              "9            35  distance            minkowski              0.8589   \n",
              "0            87   uniform            minkowski              0.8072   \n",
              "23           62  distance            minkowski              0.8473   \n",
              "15           79   uniform            euclidean              0.8082   \n",
              "5            92   uniform            euclidean              0.8010   \n",
              "\n",
              "    AUROC train promedio  Gap |Train - Val|  Score combinado (AUROC↑, Gap↓)  \n",
              "19                0.8843             0.0240                          0.9104  \n",
              "3                 1.0000             0.1241                          0.8469  \n",
              "12                0.9034             0.0557                          0.8132  \n",
              "25                0.8533             0.0215                          0.7891  \n",
              "10                0.8481             0.0238                          0.7527  \n",
              "9                 1.0000             0.1411                          0.7498  \n",
              "0                 0.8231             0.0159                          0.6883  \n",
              "23                1.0000             0.1527                          0.6840  \n",
              "15                0.8328             0.0246                          0.6813  \n",
              "5                 0.8204             0.0195                          0.6562  "
            ]
          },
          "metadata": {},
          "output_type": "display_data"
        },
        {
          "data": {
            "image/png": "[encoded data removed]",
            "text/plain": [
              "<Figure size 700x500 with 1 Axes>"
            ]
          },
          "metadata": {},
          "output_type": "display_data"
        }
      ],
      "source": [
        "\n",
        "# primero filtramos solo los casos donde  train > valid\n",
        "\n",
        "cvres_overfit = cvres_knn.copy()\n",
        "cvres_overfit = cvres_overfit[cvres_overfit[\"mean_train_score\"] > cvres_overfit[\"mean_test_score\"]].copy()\n",
        "\n",
        "# calcular gap\n",
        "cvres_overfit[\"generalization_gap\"] = (\n",
        "    cvres_overfit[\"mean_train_score\"] - cvres_overfit[\"mean_test_score\"]\n",
        ").abs()\n",
        "\n",
        "# hacemos una clase de score combinado\n",
        "# normalizamos AUROC y gap a [0,1]\n",
        "def minmax(s):\n",
        "    return (s - s.min()) / (s.max() - s.min() + 1e-12)\n",
        "\n",
        "auc_n = minmax(cvres_overfit[\"mean_test_score\"])\n",
        "gap_n = minmax(cvres_overfit[\"generalization_gap\"])\n",
        "\n",
        "alpha = 0.7\n",
        "cvres_overfit[\"score_mix\"] = alpha * auc_n + (1 - alpha) * (1 - gap_n)\n",
        "\n",
        "# ordenar por el score combinado\n",
        "cvres_ranked = cvres_overfit.sort_values(\"score_mix\", ascending=False)\n",
        "\n",
        "cols_rank = [\n",
        "    \"param_n_neighbors\",\n",
        "    \"param_weights\",\n",
        "    \"param_metric\",\n",
        "    \"mean_test_score\",\n",
        "    \"mean_train_score\",\n",
        "    \"generalization_gap\",\n",
        "    \"score_mix\",\n",
        "]\n",
        "\n",
        "mapeo_nombres_knn.update({\n",
        "    \"generalization_gap\": \"Gap |Train - Val|\",\n",
        "    \"score_mix\": \"Score combinado (AUROC↑, Gap↓)\",\n",
        "})\n",
        "\n",
        "print(\"\\nTop 10 balanceados (AUROC alto + poco gap):\")\n",
        "display(\n",
        "    cvres_ranked[cols_rank]\n",
        "    .head(10)\n",
        "    .round(4)\n",
        "    .rename(columns=mapeo_nombres_knn)\n",
        ")\n",
        "\n",
        "\n",
        "plt.figure(figsize=(7,5))\n",
        "plt.scatter(\n",
        "    cvres_overfit[\"generalization_gap\"],\n",
        "    cvres_overfit[\"mean_test_score\"],\n",
        "    alpha=0.5,\n",
        "    label=\"Modelos\"\n",
        ")\n",
        "\n",
        "top10 = cvres_ranked.head(10)\n",
        "plt.scatter(\n",
        "    top10[\"generalization_gap\"],\n",
        "    top10[\"mean_test_score\"],\n",
        "    color=\"red\",\n",
        "    s=60,\n",
        "    label=\"Top 10 balanceados\"\n",
        ")\n",
        "\n",
        "for _, r in top10.iterrows():\n",
        "    plt.annotate(f'K={r[\"param_n_neighbors\"]}',\n",
        "                 (r[\"generalization_gap\"], r[\"mean_test_score\"]),\n",
        "                 fontsize=8, xytext=(3,3), textcoords=\"offset points\")\n",
        "\n",
        "plt.xlabel(\"Gap |Train - Val| (AUROC)\")\n",
        "plt.ylabel(\"AUROC Validación (media CV)\")\n",
        "plt.title(\"KNN: equilibrio entre AUROC validación y gap\")\n",
        "plt.grid(True, linestyle=\"--\", alpha=0.4)\n",
        "plt.legend()\n",
        "plt.tight_layout()\n",
        "plt.show()\n"
      ]
    },
    {
      "cell_type": "markdown",
      "metadata": {
        "id": "b7a9043b"
      },
      "source": [
        "# Support Vector Machines (SVM)."
      ]
    },
    {
      "cell_type": "code",
      "execution_count": 24,
      "metadata": {
        "colab": {
          "base_uri": "https://localhost:8080/",
          "height": 501
        },
        "id": "26aad4f3",
        "outputId": "3b06e408-e434-436f-a049-062643455ccb"
      },
      "outputs": [
        {
          "name": "stdout",
          "output_type": "stream",
          "text": [
            "\n",
            " Top 10 de resultados con SVM:\n"
          ]
        },
        {
          "data": {
            "text/html": [
              "<table border=\"1\" class=\"dataframe\">\n",
              "  <thead>\n",
              "    <tr style=\"text-align: center;\">\n",
              "      <th>C</th>\n",
              "      <th>Kernel</th>\n",
              "      <th>Peso de Clase</th>\n",
              "      <th>Gamma</th>\n",
              "      <th>AUROC Prueba Promedio</th>\n",
              "      <th>AUROC train Promedio</th>\n",
              "    </tr>\n",
              "  </thead>\n",
              "  <tbody>\n",
              "    <tr>\n",
              "      <td>51</td>\n",
              "      <td>rbf</td>\n",
              "      <td>None</td>\n",
              "      <td>scale</td>\n",
              "      <td>0.8091</td>\n",
              "      <td>1.0</td>\n",
              "    </tr>\n",
              "    <tr>\n",
              "      <td>45</td>\n",
              "      <td>rbf</td>\n",
              "      <td>balanced</td>\n",
              "      <td>scale</td>\n",
              "      <td>0.8091</td>\n",
              "      <td>1.0</td>\n",
              "    </tr>\n",
              "    <tr>\n",
              "      <td>184</td>\n",
              "      <td>rbf</td>\n",
              "      <td>None</td>\n",
              "      <td>scale</td>\n",
              "      <td>0.8091</td>\n",
              "      <td>1.0</td>\n",
              "    </tr>\n",
              "    <tr>\n",
              "      <td>171</td>\n",
              "      <td>linear</td>\n",
              "      <td>balanced</td>\n",
              "      <td>auto</td>\n",
              "      <td>0.7164</td>\n",
              "      <td>1.0</td>\n",
              "    </tr>\n",
              "    <tr>\n",
              "      <td>126</td>\n",
              "      <td>linear</td>\n",
              "      <td>balanced</td>\n",
              "      <td>scale</td>\n",
              "      <td>0.7164</td>\n",
              "      <td>1.0</td>\n",
              "    </tr>\n",
              "    <tr>\n",
              "      <td>205</td>\n",
              "      <td>linear</td>\n",
              "      <td>None</td>\n",
              "      <td>scale</td>\n",
              "      <td>0.7164</td>\n",
              "      <td>1.0</td>\n",
              "    </tr>\n",
              "    <tr>\n",
              "      <td>217</td>\n",
              "      <td>linear</td>\n",
              "      <td>balanced</td>\n",
              "      <td>auto</td>\n",
              "      <td>0.7164</td>\n",
              "      <td>1.0</td>\n",
              "    </tr>\n",
              "    <tr>\n",
              "      <td>35</td>\n",
              "      <td>linear</td>\n",
              "      <td>None</td>\n",
              "      <td>scale</td>\n",
              "      <td>0.7164</td>\n",
              "      <td>1.0</td>\n",
              "    </tr>\n",
              "    <tr>\n",
              "      <td>144</td>\n",
              "      <td>linear</td>\n",
              "      <td>None</td>\n",
              "      <td>auto</td>\n",
              "      <td>0.7164</td>\n",
              "      <td>1.0</td>\n",
              "    </tr>\n",
              "    <tr>\n",
              "      <td>157</td>\n",
              "      <td>linear</td>\n",
              "      <td>None</td>\n",
              "      <td>scale</td>\n",
              "      <td>0.7164</td>\n",
              "      <td>1.0</td>\n",
              "    </tr>\n",
              "  </tbody>\n",
              "</table>"
            ],
            "text/plain": [
              "<IPython.core.display.HTML object>"
            ]
          },
          "metadata": {},
          "output_type": "display_data"
        },
        {
          "name": "stdout",
          "output_type": "stream",
          "text": [
            "\n",
            "Cantidad de combinaciones: 40\n",
            "\n",
            "Mejores hiperparámetros para SVM: {'kernel': 'rbf', 'gamma': 'scale', 'class_weight': 'balanced', 'C': 45}\n",
            "\n",
            "Mejor AUROC promedio en validación para SVM: 0.8091\n"
          ]
        }
      ],
      "source": [
        "# primero definimos los parametros q vamos a usar\n",
        "param_distributions_svm = {\n",
        "    \"C\":  list(range(1,300)),  # costo de cuantos dejo q se escapen de mi clasificador ( aprox )\n",
        "    \"kernel\": [\"linear\", \"poly\", \"rbf\", \"sigmoid\"],  # nucleo\n",
        "    \"gamma\": [\"scale\", \"auto\"],\n",
        "    \"class_weight\": [None, \"balanced\"],\n",
        "}\n",
        "\n",
        "svm = SVC(random_state=0, probability=True)\n",
        "\n",
        "scoring_svm = {\n",
        "    \"roc_auc\": make_scorer(roc_auc_score),  # solo vamos a usar esta\n",
        "}\n",
        "\n",
        "search_svm = RandomizedSearchCV(\n",
        "    estimator=svm,\n",
        "    param_distributions=param_distributions_svm,\n",
        "    n_iter= 40,\n",
        "    scoring=scoring_svm,\n",
        "    refit=\"roc_auc\",\n",
        "    cv=5,\n",
        "    return_train_score=True,\n",
        "    random_state=0\n",
        ")\n",
        "\n",
        "search_svm.fit(x_desarrollo, y_desarrollo)\n",
        "\n",
        "cvres_svm = pd.DataFrame(search_svm.cv_results_).sort_values(\"mean_test_roc_auc\", ascending=False)\n",
        "\n",
        "cols_svm = [\n",
        "    \"param_C\",\n",
        "    \"param_kernel\",\n",
        "    \"param_class_weight\",\n",
        "    \"param_gamma\",\n",
        "    \"mean_test_roc_auc\",\n",
        "    \"mean_train_roc_auc\",\n",
        "]\n",
        "\n",
        "print(\"\\n Top 10 de resultados con SVM:\")\n",
        "mapeo_nombres_svm = {\n",
        "    \"param_C\": \"C \",\n",
        "    \"param_kernel\": \"Kernel\",\n",
        "    \"param_gamma\": \"Gamma\",\n",
        "    \"param_class_weight\": \"Peso de Clase\",\n",
        "    \"mean_test_roc_auc\": \"AUROC Prueba Promedio\",\n",
        "    \"mean_train_roc_auc\": \"AUROC train Promedio\",\n",
        "}\n",
        "\n",
        "display(HTML(\n",
        "    cvres_svm[cols_svm]\n",
        "    .head(10)\n",
        "    .round(4)\n",
        "    .rename(columns=mapeo_nombres_svm)\n",
        "     .to_html(index=False, justify='center')\n",
        "))\n",
        "\n",
        "print(\"\")\n",
        "print(\"Cantidad de combinaciones: 40\")\n",
        "print(\"\")\n",
        "print(\"Mejores hiperparámetros para SVM:\", search_svm.best_params_)\n",
        "\n",
        "print(\"\")\n",
        "print(\"Mejor AUROC promedio en validación para SVM:\", search_svm.best_score_.round(4))\n"
      ]
    },
    {
      "cell_type": "markdown",
      "metadata": {
        "id": "vm6f2_2kqiZ1"
      },
      "source": [
        "> *Compare los resultados obtenidos en el ejercicio anterior con los siguientes modelos con sus hiperparámetros default. LDA (Linear discriminant analysis) Naïve Bayes*.\n",
        "\n",
        "> *¿Qué resultados obtuvo? ¿Qué hiperparámetros podrían ser relevantes explorar en estos modelos? ¿Por qué?*"
      ]
    },
    {
      "cell_type": "markdown",
      "metadata": {
        "id": "U6vYsE47qgLi"
      },
      "source": [
        "# LDA y Naive Bayes"
      ]
    },
    {
      "cell_type": "code",
      "execution_count": 25,
      "metadata": {
        "colab": {
          "base_uri": "https://localhost:8080/",
          "height": 147
        },
        "id": "9SfkylC0rLUW",
        "outputId": "d7dbac0b-7e3c-48a1-b0a0-0de36c160763"
      },
      "outputs": [
        {
          "name": "stdout",
          "output_type": "stream",
          "text": [
            "Resultados comparativos LDA vs Naïve Bayes (k = 5):\n",
            " \n"
          ]
        },
        {
          "data": {
            "text/html": [
              "<table border=\"1\" class=\"dataframe\">\n",
              "  <thead>\n",
              "    <tr style=\"text-align: center;\">\n",
              "      <th>Modelo</th>\n",
              "      <th>AUROC train promedio</th>\n",
              "      <th>AUROC valid promedio</th>\n",
              "    </tr>\n",
              "  </thead>\n",
              "  <tbody>\n",
              "    <tr>\n",
              "      <td>LDA</td>\n",
              "      <td>0.998497</td>\n",
              "      <td>0.747897</td>\n",
              "    </tr>\n",
              "    <tr>\n",
              "      <td>Naïve Bayes</td>\n",
              "      <td>0.980553</td>\n",
              "      <td>0.825739</td>\n",
              "    </tr>\n",
              "  </tbody>\n",
              "</table>"
            ],
            "text/plain": [
              "<IPython.core.display.HTML object>"
            ]
          },
          "metadata": {},
          "output_type": "display_data"
        }
      ],
      "source": [
        "# Ahora hacemos LDA Y Naive Bayes :\n",
        "\n",
        "# HACEMOS CROSS VALIDATION CON 5 FOLDS PARA LDA\n",
        "cv = StratifiedKFold(n_splits=5, shuffle=True, random_state=0)\n",
        "\n",
        "lda = LinearDiscriminantAnalysis()\n",
        "cvres_lda = cross_validate(\n",
        "    lda,\n",
        "    x_desarrollo,\n",
        "    y_desarrollo,\n",
        "    cv=cv,\n",
        "    scoring=\"roc_auc\",\n",
        "    return_train_score=True\n",
        ")\n",
        "\n",
        "# HACEMOS CROSS VALIDATION CON 5 FOLD PARA NAIVE BAYES\n",
        "\n",
        "nb = GaussianNB()\n",
        "cvres_nb = cross_validate(\n",
        "    nb,\n",
        "    x_desarrollo,\n",
        "    y_desarrollo,\n",
        "    cv=cv,\n",
        "    scoring=\"roc_auc\",\n",
        "    return_train_score=True\n",
        ")\n",
        "\n",
        "# Hacemos la table comparativa entre ambos modelos\n",
        "\n",
        "resultados = pd.DataFrame({\n",
        "    \"Modelo\": [\"LDA\", \"Naïve Bayes\"],\n",
        "    \"AUROC train promedio\": [cvres_lda[\"train_score\"].mean(), cvres_nb[\"train_score\"].mean()],\n",
        "    \"AUROC valid promedio\": [cvres_lda[\"test_score\"].mean(), cvres_nb[\"test_score\"].mean()],\n",
        "\n",
        "})\n",
        "\n",
        "print(\"Resultados comparativos LDA vs Naïve Bayes (k = 5):\")\n",
        "print(\" \")\n",
        "\n",
        "display(HTML(resultados.to_html(index=False, justify='center')))\n",
        "\n"
      ]
    },
    {
      "cell_type": "markdown",
      "metadata": {
        "id": "Lg-slpBJtuii"
      },
      "source": [
        "Como vimos en la teorica , aunque Naive Bayes haga muchas suposiciones y tenga mucho sesgo inductivo, en la prática anda muy bien... despues de hacer estas prubas, estamos de acuerdo."
      ]
    },
    {
      "cell_type": "markdown",
      "metadata": {
        "id": "xUf-GC2WuILc"
      },
      "source": [
        "Hiperparametros de LDA :\n",
        "\n",
        "* solver ( svd, lsqr, eigen)\n",
        "* shrinkage ( None, auto) Ayuda cuando el número de muestras es pequeño en comparación con el número de características.(a nosotras nos re sirve)\n",
        "* n_components ( El número de dimensiones que se desea conservar después de la reducción de dimensionalidad )\n",
        "\n",
        "Hiperparametros de NB :\n",
        "\n",
        "* var_smoothing\n",
        "* alpha\n",
        "\n",
        "\n",
        "CONCLUSIONES :\n",
        "\n",
        "Para LDA nos combiene usar como hiperparametro shrinkage, ya que ayuda a reducir el sobreajuste, sobre todo en datasets con muchos atributos y pocas muestras.\n",
        "\n",
        "\n",
        "En Naïve Bayes, la performance depende mucho de cómo se maneja la varianza, por lo que var_smoothing es un hiperparámetro super importante para obtener buenos resultados.\n",
        "\n",
        "\n",
        "\n",
        "\n",
        "\n",
        "\n",
        "\n",
        "\n",
        "\n",
        "\n",
        "\n",
        "\n",
        "\n",
        "\n",
        "\n"
      ]
    },
    {
      "cell_type": "markdown",
      "metadata": {
        "id": "6teOOmtDwRJZ"
      },
      "source": [
        "> *¿Cuál fue el mejor modelo y con qué configuración? Explicar por qué creería que dio mejor (recordando qué hace cada algoritmo y con qué tipo de datos están trabajando).*"
      ]
    },
    {
      "cell_type": "code",
      "execution_count": 26,
      "metadata": {
        "colab": {
          "base_uri": "https://localhost:8080/",
          "height": 206
        },
        "id": "6txM7HGgwUY7",
        "outputId": "b50e9ab0-bc0a-4401-ee75-792e2d0c9d20"
      },
      "outputs": [
        {
          "data": {
            "text/html": [
              "<table border=\"1\" class=\"dataframe\">\n",
              "  <thead>\n",
              "    <tr style=\"text-align: center;\">\n",
              "      <th>Modelo</th>\n",
              "      <th>Configuración elegida</th>\n",
              "      <th>AUROC Validación (media)</th>\n",
              "      <th>AUROC train (media)</th>\n",
              "    </tr>\n",
              "  </thead>\n",
              "  <tbody>\n",
              "    <tr>\n",
              "      <td>Árboles</td>\n",
              "      <td>prof arbol 4, min splits = 250, entropy, clases balanceadas</td>\n",
              "      <td>0.7045</td>\n",
              "      <td>0.7048</td>\n",
              "    </tr>\n",
              "    <tr>\n",
              "      <td>KNN</td>\n",
              "      <td>6 vecinos, pesos uniformes, dist manhattan</td>\n",
              "      <td>0.8339</td>\n",
              "      <td>0.8522</td>\n",
              "    </tr>\n",
              "    <tr>\n",
              "      <td>SVM</td>\n",
              "      <td>nucleo gauseano, C=256, pesos balanceados</td>\n",
              "      <td>0.7809</td>\n",
              "      <td>1.0000</td>\n",
              "    </tr>\n",
              "    <tr>\n",
              "      <td>LDA</td>\n",
              "      <td>default</td>\n",
              "      <td>0.7156</td>\n",
              "      <td>0.9941</td>\n",
              "    </tr>\n",
              "    <tr>\n",
              "      <td>NB</td>\n",
              "      <td>default</td>\n",
              "      <td>0.8174</td>\n",
              "      <td>0.9709</td>\n",
              "    </tr>\n",
              "  </tbody>\n",
              "</table>"
            ],
            "text/plain": [
              "<IPython.core.display.HTML object>"
            ]
          },
          "metadata": {},
          "output_type": "display_data"
        }
      ],
      "source": [
        "# Datos de los mejores modelos\n",
        "modelos = [\n",
        "    {\n",
        "        \"Modelo\": \"Árboles \",\n",
        "        \"Configuración elegida\": \"prof arbol 4, min splits = 250, entropy, clases balanceadas\",\n",
        "        \"AUROC Validación (media)\": 0.7045,\n",
        "        \"AUROC train (media)\": 0.7048,\n",
        "    },\n",
        "    {\n",
        "        \"Modelo\": \"KNN\",\n",
        "        \"Configuración elegida\": \"6 vecinos, pesos uniformes, dist manhattan\",\n",
        "        \"AUROC Validación (media)\": 0.8339,\n",
        "        \"AUROC train (media)\": 0.8522,\n",
        "\n",
        "    },\n",
        "    {\n",
        "        \"Modelo\": \"SVM\",\n",
        "        \"Configuración elegida\": \"nucleo gauseano, C=256, pesos balanceados\",\n",
        "        \"AUROC Validación (media)\": 0.7809,\n",
        "        \"AUROC train (media)\": 1.0000,\n",
        "\n",
        "    },\n",
        "    {\n",
        "        \"Modelo\": \"LDA\",\n",
        "        \"Configuración elegida\": \"default\",\n",
        "        \"AUROC Validación (media)\": 0.7156,\n",
        "        \"AUROC train (media)\": 0.9941,\n",
        "\n",
        "    },\n",
        "    {\n",
        "        \"Modelo\": \"NB\",\n",
        "        \"Configuración elegida\": \"default\",\n",
        "        \"AUROC Validación (media)\": 0.8174,\n",
        "        \"AUROC train (media)\": 0.9709,\n",
        "\n",
        "    }\n",
        "]\n",
        "\n",
        "# Convertimos a DataFrame\n",
        "df_modelos = pd.DataFrame(modelos)\n",
        "\n",
        "# Mostramos tabla bonita\n",
        "display(HTML(df_modelos.to_html(index=False, justify=\"center\")))\n"
      ]
    },
    {
      "cell_type": "markdown",
      "metadata": {
        "id": "1061-cfSysg0"
      },
      "source": [
        "- Arbol : Regulariza bien, evita overfitting con min_samples_split grande.\n",
        "\n",
        "- KNN : Mejor equilibrio entre AUROC alto y bajo gap (0.0183). Captura bien la estructura local de los datos.\n",
        "\n",
        "- SVM: Buen AUROC, pero obvio sobreajuste (train=1).\n",
        "\n",
        "- LDA : Alto sobreajuste: en train casi que es 1, pero baja en validación.\n",
        "    \n",
        "- NB : nos sorprende que de tan bien considerando que tiene un monton de sesgo inductivo. Menos gap que SVM, pero peor que KNN.\n"
      ]
    },
    {
      "cell_type": "markdown",
      "metadata": {
        "id": "GwqKn5RBzJR8"
      },
      "source": [
        "Para nosotras el mejor modelo es el de KNN con los hipermarametros de la tabla. No solo tiene el mejor AUROC de validacion, sino que ademas es el que tiene menor gap entre val y train. Esto hace parecer que el modelo no esta sobreajustando a los datos de entrenamiento, por lo que decidimos quedarnos con este modelo como el mejor.\n",
        "\n"
      ]
    },
    {
      "cell_type": "markdown",
      "metadata": {
        "id": "HJY_OkLqtZI2"
      },
      "source": [
        "Modelo ganador EN ESTE CASO... y con nuestros criterios de principiantes : KNN"
      ]
    },
    {
      "cell_type": "code",
      "execution_count": 27,
      "metadata": {
        "colab": {
          "base_uri": "https://localhost:8080/",
          "height": 408
        },
        "id": "Ql7wzQ6QuFie",
        "outputId": "7428da8e-0e90-4eba-a722-fd8d7fb8531f"
      },
      "outputs": [
        {
          "data": {
            "text/html": [
              "<img src=\"https://i.imgur.com/VVzDmjr.jpeg\"/>"
            ],
            "text/plain": [
              "<IPython.core.display.Image object>"
            ]
          },
          "metadata": {},
          "output_type": "display_data"
        }
      ],
      "source": [
        "\n",
        "display(Image(url=url))"
      ]
    }
  ],
  "metadata": {
    "colab": {
      "provenance": []
    },
    "kernelspec": {
      "display_name": "Python 3",
      "name": "python3"
    },
    "language_info": {
      "codemirror_mode": {
        "name": "ipython",
        "version": 3
      },
      "file_extension": ".py",
      "mimetype": "text/x-python",
      "name": "python",
      "nbconvert_exporter": "python",
      "pygments_lexer": "ipython3",
      "version": "3.10.11"
    }
  },
  "nbformat": 4,
  "nbformat_minor": 0
}
